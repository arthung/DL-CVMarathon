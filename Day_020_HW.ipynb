{
 "cells": [
  {
   "cell_type": "markdown",
   "metadata": {},
   "source": [
    "## 作業\n",
    "1. 請用 numpy 建立一個 10 x 10, 數值分布自 -1.0 ~ 1.0 的矩陣並繪製 Heatmap\n",
    "2. 請用 numpy 建立一個 1000 x 3, 數值分布為 -1.0 ~ 1.0 的矩陣，並繪製 PairPlot (上半部為 scatter, 對角線為 hist, 下半部為 density)\n",
    "3. 請用 numpy 建立一個 1000 x 3, 數值分布為常態分佈的矩陣，並繪製 PairPlot (上半部為 scatter, 對角線為 hist, 下半部為 density)"
   ]
  },
  {
   "cell_type": "markdown",
   "metadata": {
    "collapsed": true
   },
   "source": [
    "# [作業目標]\n",
    "- 試著設定隨機資料, 並依照範例練習基礎與進階的 Heatmap"
   ]
  },
  {
   "cell_type": "markdown",
   "metadata": {
    "collapsed": true
   },
   "source": [
    "# [作業重點]\n",
    "- 如題1.條件隨機矩陣, 並仿造基礎 Heatmap 範例作圖   \n",
    "(In[2], OUT[2]) (Hint : numpy.random.random - 均勻分布, 隨機小數)\n",
    "- 如題2.3.條件隨機數值列, 並仿造進階 Heatmap 範例作圖  \n",
    "(In[3], OUT[3], In[4], OUT[4]) (Hint : numpy.random.randn - 常態分布)"
   ]
  },
  {
   "cell_type": "code",
   "execution_count": 1,
   "metadata": {},
   "outputs": [],
   "source": [
    "# 載入需要的套件\n",
    "import os\n",
    "import numpy as np\n",
    "import pandas as pd\n",
    "import matplotlib.pyplot as plt\n",
    "import seaborn as sns # 另一個繪圖-樣式套件\n",
    "plt.style.use('ggplot')\n",
    "\n",
    "# 忽略警告訊息\n",
    "%matplotlib inline\n",
    "import warnings\n",
    "warnings.filterwarnings('ignore')"
   ]
  },
  {
   "cell_type": "code",
   "execution_count": 16,
   "metadata": {},
   "outputs": [
    {
     "data": {
      "text/plain": [
       "array([[0.91049746, 0.97497664, 0.26224301, 0.42974032, 0.42413251,\n",
       "        0.01231683, 0.04538188, 0.90849751, 0.9954566 , 0.46161858],\n",
       "       [0.3480543 , 0.25886107, 0.92550535, 0.52926967, 0.94044509,\n",
       "        0.36559914, 0.75652788, 0.30650394, 0.44646152, 0.87339091],\n",
       "       [0.58757454, 0.75899575, 0.46219028, 0.72565653, 0.72243128,\n",
       "        0.64994985, 0.84989124, 0.39472421, 0.73162543, 0.71688989],\n",
       "       [0.45467059, 0.61067035, 0.63505096, 0.10654896, 0.56716151,\n",
       "        0.46288497, 0.53641581, 0.24546345, 0.59346941, 0.05965914],\n",
       "       [0.84007079, 0.59918094, 0.2325976 , 0.57501333, 0.99680859,\n",
       "        0.30996349, 0.77625361, 0.84218904, 0.7272916 , 0.98388814],\n",
       "       [0.69708725, 0.99473396, 0.76023768, 0.29223655, 0.57419555,\n",
       "        0.91347753, 0.31757541, 0.61112479, 0.80483393, 0.23113479],\n",
       "       [0.28381608, 0.25999937, 0.69761345, 0.70573615, 0.45569956,\n",
       "        0.64568502, 0.40932945, 0.77489416, 0.6641911 , 0.52850423],\n",
       "       [0.76658729, 0.25774942, 0.77238389, 0.57274781, 0.24060021,\n",
       "        0.79961259, 0.57739999, 0.90520276, 0.43072434, 0.90718777],\n",
       "       [0.72860346, 0.21345547, 0.46365766, 0.3440163 , 0.79971387,\n",
       "        0.78441127, 0.53945419, 0.46262395, 0.32947149, 0.6435924 ],\n",
       "       [0.31589834, 0.76073641, 0.9329529 , 0.9479266 , 0.49747025,\n",
       "        0.99252403, 0.2752663 , 0.79116451, 0.05423393, 0.06607799]])"
      ]
     },
     "execution_count": 16,
     "metadata": {},
     "output_type": "execute_result"
    }
   ],
   "source": [
    "#random_matrix = numpy.random.randint(min_val,max_val,(<num_rows>,<num_cols>))\n",
    "np.random.rand(10,10)"
   ]
  },
  {
   "cell_type": "code",
   "execution_count": 5,
   "metadata": {},
   "outputs": [
    {
     "ename": "TypeError",
     "evalue": "random() takes at most 1 positional argument (3 given)",
     "output_type": "error",
     "traceback": [
      "\u001b[1;31m---------------------------------------------------------------------------\u001b[0m",
      "\u001b[1;31mTypeError\u001b[0m                                 Traceback (most recent call last)",
      "\u001b[1;32m<ipython-input-5-8452f0e5cf4b>\u001b[0m in \u001b[0;36m<module>\u001b[1;34m\u001b[0m\n\u001b[0;32m      2\u001b[0m \u001b[0mYour\u001b[0m \u001b[0mCode\u001b[0m \u001b[0mHere\u001b[0m\u001b[1;33m\u001b[0m\u001b[1;33m\u001b[0m\u001b[0m\n\u001b[0;32m      3\u001b[0m \"\"\"\n\u001b[1;32m----> 4\u001b[1;33m \u001b[0mmatrix\u001b[0m \u001b[1;33m=\u001b[0m \u001b[0mnp\u001b[0m\u001b[1;33m.\u001b[0m\u001b[0mrandom\u001b[0m\u001b[1;33m.\u001b[0m\u001b[0mrandom\u001b[0m\u001b[1;33m(\u001b[0m\u001b[1;33m-\u001b[0m\u001b[1;36m1\u001b[0m\u001b[1;33m,\u001b[0m\u001b[1;36m1\u001b[0m\u001b[1;33m,\u001b[0m \u001b[1;36m100\u001b[0m\u001b[1;33m)\u001b[0m\u001b[1;33m\u001b[0m\u001b[1;33m\u001b[0m\u001b[0m\n\u001b[0m\u001b[0;32m      5\u001b[0m \u001b[0mplt\u001b[0m\u001b[1;33m.\u001b[0m\u001b[0mfigure\u001b[0m\u001b[1;33m(\u001b[0m\u001b[0mfigsize\u001b[0m\u001b[1;33m=\u001b[0m\u001b[1;33m(\u001b[0m\u001b[1;36m10\u001b[0m\u001b[1;33m,\u001b[0m\u001b[1;36m10\u001b[0m\u001b[1;33m)\u001b[0m\u001b[1;33m)\u001b[0m\u001b[1;33m\u001b[0m\u001b[1;33m\u001b[0m\u001b[0m\n\u001b[0;32m      6\u001b[0m \"\"\"\n",
      "\u001b[1;32mmtrand.pyx\u001b[0m in \u001b[0;36mnumpy.random.mtrand.RandomState.random\u001b[1;34m()\u001b[0m\n",
      "\u001b[1;31mTypeError\u001b[0m: random() takes at most 1 positional argument (3 given)"
     ]
    }
   ],
   "source": [
    "\"\"\"\n",
    "Your Code Here\n",
    "\"\"\"\n",
    "matrix = np.random.random(-1,1, 100)\n",
    "plt.figure(figsize=(10,10))\n",
    "\"\"\"\n",
    "Your Code Here\n",
    "\"\"\"\n",
    "ext_data_corrs = matrix.corr()\n",
    "heatmap = sns.heatmap(ext_data_corrs, cmap = plt.cm.RdYlBu_r, vmin = -0.25, annot = True, vmax = 0.6)\n",
    "plt.show()"
   ]
  },
  {
   "cell_type": "code",
   "execution_count": null,
   "metadata": {
    "collapsed": true
   },
   "outputs": [],
   "source": [
    "nrow = 1000\n",
    "ncol = 3\n",
    "\"\"\"\n",
    "Your Code Here\n",
    "\"\"\"\n",
    "matrix = numpy.random.random\n",
    "\n",
    "# 隨機給予 0, 1, 2 三種標籤\n",
    "indice = np.random.choice([0,1,2], size=nrow)\n",
    "plot_data = pd.DataFrame(matrix, indice).reset_index()\n",
    "\n",
    "# 繪製 seborn 進階 Heatmap\n",
    "grid = sns.PairGrid(data = plot_data, size = 3, diag_sharey=False, \n",
    "                    hue = 'index', vars = [x for x in list(plot_data.columns) if x != 'index'])\n",
    "\"\"\"\n",
    "Your Code Here\n",
    "Please replace \"...\" to correct plot function\n",
    "\"\"\"\n",
    "grid.map_upper(... , alpha = 0.2)\n",
    "grid.map_diag(... )\n",
    "grid.map_lower(... , cmap = plt.cm.OrRd_r)\n",
    "\n",
    "plt.show()"
   ]
  },
  {
   "cell_type": "code",
   "execution_count": null,
   "metadata": {
    "collapsed": true
   },
   "outputs": [],
   "source": [
    "nrow = 1000\n",
    "ncol = 3\n",
    "\"\"\"\n",
    "Your Code Here\n",
    "\"\"\"\n",
    "matrix = \n",
    "\n",
    "# 隨機給予 0, 1, 2 三種標籤\n",
    "indice = np.random.choice([0,1,2], size=nrow)\n",
    "plot_data = pd.DataFrame(matrix, indice).reset_index()\n",
    "\n",
    "# 繪製 seborn 進階 Heatmap\n",
    "grid = sns.PairGrid(data = plot_data, size = 3, diag_sharey=False,\n",
    "                    hue = 'index', vars = [x for x in list(plot_data.columns) if x != 'index'])\n",
    "\"\"\"\n",
    "Your Code Here\n",
    "Please replace \"...\" to correct plot function\n",
    "\"\"\"\n",
    "grid.map_upper(... , alpha = 0.2)\n",
    "grid.map_diag(... )\n",
    "grid.map_lower(... , cmap = plt.cm.OrRd_r)\n",
    "\n",
    "plt.show()"
   ]
  },
  {
   "cell_type": "code",
   "execution_count": null,
   "metadata": {
    "collapsed": true
   },
   "outputs": [],
   "source": []
  }
 ],
 "metadata": {
  "anaconda-cloud": {},
  "kernelspec": {
   "display_name": "Python 3",
   "language": "python",
   "name": "python3"
  },
  "language_info": {
   "codemirror_mode": {
    "name": "ipython",
    "version": 3
   },
   "file_extension": ".py",
   "mimetype": "text/x-python",
   "name": "python",
   "nbconvert_exporter": "python",
   "pygments_lexer": "ipython3",
   "version": "3.7.6"
  }
 },
 "nbformat": 4,
 "nbformat_minor": 1
}
